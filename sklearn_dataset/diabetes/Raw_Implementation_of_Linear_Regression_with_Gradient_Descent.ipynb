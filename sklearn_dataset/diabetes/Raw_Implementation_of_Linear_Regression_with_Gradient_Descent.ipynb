{
  "nbformat": 4,
  "nbformat_minor": 0,
  "metadata": {
    "colab": {
      "name": "Raw Implementation of Linear Regression with Gradient Descent.ipynb",
      "provenance": [],
      "collapsed_sections": []
    },
    "kernelspec": {
      "name": "python3",
      "display_name": "Python 3"
    }
  },
  "cells": [
    {
      "cell_type": "markdown",
      "metadata": {
        "id": "cV9SBTpP-_No",
        "colab_type": "text"
      },
      "source": [
        "Hands-on Assignment: Implementing Linear Regression with Gradient Descent — [CommonLounge](https://www.commonlounge.com/discussion/766ff7abcdce44d28de929e15e8ff4fa)"
      ]
    },
    {
      "cell_type": "code",
      "metadata": {
        "id": "5lUiGj8rKwpP",
        "colab_type": "code",
        "colab": {}
      },
      "source": [
        "## Import stuff\n",
        " \n",
        "import numpy as np\n",
        "from sklearn import datasets, linear_model, metrics"
      ],
      "execution_count": 0,
      "outputs": []
    },
    {
      "cell_type": "markdown",
      "metadata": {
        "id": "B3EPGWkBv6C2",
        "colab_type": "text"
      },
      "source": [
        "# Dataset"
      ]
    },
    {
      "cell_type": "code",
      "metadata": {
        "id": "CVXBE68sK5WE",
        "colab_type": "code",
        "colab": {}
      },
      "source": [
        "## Load the diabetes dataset\n",
        "diabetes = datasets.load_diabetes()\n",
        "diabetes_X = diabetes.data # matrix of dimensions 442x10\n",
        " \n",
        "# Split the data into training/testing sets\n",
        "diabetes_X_train = diabetes_X[:-20]\n",
        "diabetes_X_test = diabetes_X[-20:]\n",
        " \n",
        "# Split the targets into training/testing sets\n",
        "diabetes_y_train = diabetes.target[:-20]\n",
        "diabetes_y_test = diabetes.target[-20:]"
      ],
      "execution_count": 0,
      "outputs": []
    },
    {
      "cell_type": "markdown",
      "metadata": {
        "id": "r_iz5RecwQlJ",
        "colab_type": "text"
      },
      "source": [
        "# Implementing Linear Regression with Gradient Descent"
      ]
    },
    {
      "cell_type": "code",
      "metadata": {
        "id": "1nLFaGvExRCt",
        "colab_type": "code",
        "colab": {
          "base_uri": "https://localhost:8080/",
          "height": 34
        },
        "outputId": "e731240c-2292-4ba1-bc9e-f63d363348ed"
      },
      "source": [
        "diabetes.keys()"
      ],
      "execution_count": 44,
      "outputs": [
        {
          "output_type": "execute_result",
          "data": {
            "text/plain": [
              "dict_keys(['data', 'target', 'DESCR', 'feature_names', 'data_filename', 'target_filename'])"
            ]
          },
          "metadata": {
            "tags": []
          },
          "execution_count": 44
        }
      ]
    },
    {
      "cell_type": "code",
      "metadata": {
        "id": "pfS3Eez3x42h",
        "colab_type": "code",
        "colab": {
          "base_uri": "https://localhost:8080/",
          "height": 683
        },
        "outputId": "e4396d1b-8976-4e35-d638-1091badfd19c"
      },
      "source": [
        "print(diabetes.DESCR)"
      ],
      "execution_count": 45,
      "outputs": [
        {
          "output_type": "stream",
          "text": [
            ".. _diabetes_dataset:\n",
            "\n",
            "Diabetes dataset\n",
            "----------------\n",
            "\n",
            "Ten baseline variables, age, sex, body mass index, average blood\n",
            "pressure, and six blood serum measurements were obtained for each of n =\n",
            "442 diabetes patients, as well as the response of interest, a\n",
            "quantitative measure of disease progression one year after baseline.\n",
            "\n",
            "**Data Set Characteristics:**\n",
            "\n",
            "  :Number of Instances: 442\n",
            "\n",
            "  :Number of Attributes: First 10 columns are numeric predictive values\n",
            "\n",
            "  :Target: Column 11 is a quantitative measure of disease progression one year after baseline\n",
            "\n",
            "  :Attribute Information:\n",
            "      - Age\n",
            "      - Sex\n",
            "      - Body mass index\n",
            "      - Average blood pressure\n",
            "      - S1\n",
            "      - S2\n",
            "      - S3\n",
            "      - S4\n",
            "      - S5\n",
            "      - S6\n",
            "\n",
            "Note: Each of these 10 feature variables have been mean centered and scaled by the standard deviation times `n_samples` (i.e. the sum of squares of each column totals 1).\n",
            "\n",
            "Source URL:\n",
            "https://www4.stat.ncsu.edu/~boos/var.select/diabetes.html\n",
            "\n",
            "For more information see:\n",
            "Bradley Efron, Trevor Hastie, Iain Johnstone and Robert Tibshirani (2004) \"Least Angle Regression,\" Annals of Statistics (with discussion), 407-499.\n",
            "(https://web.stanford.edu/~hastie/Papers/LARS/LeastAngle_2002.pdf)\n"
          ],
          "name": "stdout"
        }
      ]
    },
    {
      "cell_type": "code",
      "metadata": {
        "id": "1dN4kAFbLAOD",
        "colab_type": "code",
        "colab": {
          "base_uri": "https://localhost:8080/",
          "height": 357
        },
        "outputId": "c398c3d3-6c5c-4646-970f-ec23a53f2d4e"
      },
      "source": [
        "# train\n",
        "X = diabetes_X_train\n",
        "y = diabetes_y_train\n",
        "\n",
        "# train: init\n",
        "W = np.random.uniform(low=-0.1, high=0.1, size=diabetes_X.shape[1])\n",
        "b = 0.0\n",
        " \n",
        "learning_rate = 0.1\n",
        "epochs = 100000\n",
        "N = len(X)\n",
        "# train: gradient descent\n",
        "for i in range(epochs):\n",
        "    # calculate predictions\n",
        "    y_predict = X.dot(W) + b #np.dot(W,X.T) + b\n",
        " \n",
        "    # calculate error and cost (mean squared error)\n",
        "    error = y - y_predict\n",
        "    mean_squared_error = np.mean(np.power(error,2))\n",
        " \n",
        "    # calculate gradients\n",
        "    w_gradient = -(1.0/N) * error.dot(X)\n",
        "    b_gradient = -(1.0/N) * np.sum(error)\n",
        " \n",
        "    # update parameters\n",
        "    W = W - learning_rate * w_gradient\n",
        "    b = b - learning_rate * b_gradient\n",
        " \n",
        "    # diagnostic output\n",
        "    if i % 5000 == 0: print(\"Epoch %d: %f\" % (i, mean_squared_error))"
      ],
      "execution_count": 92,
      "outputs": [
        {
          "output_type": "stream",
          "text": [
            "Epoch 0: 29468.870364\n",
            "Epoch 5000: 3048.219578\n",
            "Epoch 10000: 2941.418070\n",
            "Epoch 15000: 2927.458826\n",
            "Epoch 20000: 2924.753127\n",
            "Epoch 25000: 2923.795458\n",
            "Epoch 30000: 2923.195599\n",
            "Epoch 35000: 2922.694243\n",
            "Epoch 40000: 2922.231023\n",
            "Epoch 45000: 2921.789131\n",
            "Epoch 50000: 2921.362955\n",
            "Epoch 55000: 2920.950110\n",
            "Epoch 60000: 2920.549251\n",
            "Epoch 65000: 2920.159430\n",
            "Epoch 70000: 2919.779892\n",
            "Epoch 75000: 2919.410006\n",
            "Epoch 80000: 2919.049225\n",
            "Epoch 85000: 2918.697073\n",
            "Epoch 90000: 2918.353135\n",
            "Epoch 95000: 2918.017040\n"
          ],
          "name": "stdout"
        }
      ]
    },
    {
      "cell_type": "markdown",
      "metadata": {
        "id": "mun7vTdnwWZK",
        "colab_type": "text"
      },
      "source": [
        "# Check accuracy"
      ]
    },
    {
      "cell_type": "code",
      "metadata": {
        "id": "vf_UvMV6LEOZ",
        "colab_type": "code",
        "colab": {
          "base_uri": "https://localhost:8080/",
          "height": 102
        },
        "outputId": "8c27288d-a824-4d60-8c49-791e6221b962"
      },
      "source": [
        "# test\n",
        "X = diabetes_X_test\n",
        "y = diabetes_y_test\n",
        " \n",
        "# calculate predictions + calculate error and cost (same code as above)\n",
        "y_predict = X.dot(W) + b\n",
        "error = y - y_predict\n",
        "mean_squared_error = np.mean(np.power(e,2))\n",
        "print('Coefficients: \\n', W)\n",
        "print(\"Mean squared error: %.2f\" % mean_squared_error)\n",
        "print(\"=\"*120)"
      ],
      "execution_count": 93,
      "outputs": [
        {
          "output_type": "stream",
          "text": [
            "Coefficients: \n",
            " [   3.66171929 -234.66436592  519.39535678  325.58171667 -176.10723917\n",
            "  -16.44047148 -180.05906974  108.06179546  502.78362705   78.96999074]\n",
            "Mean squared error: 1994.64\n",
            "========================================================================================================================\n"
          ],
          "name": "stdout"
        }
      ]
    }
  ]
}