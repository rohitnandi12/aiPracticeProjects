{
  "nbformat": 4,
  "nbformat_minor": 0,
  "metadata": {
    "colab": {
      "name": "Copy of (Template) Hands-on Project: Digit classification with K-Nearest Neighbors and Data Augmentation — CommonLounge.ipynb",
      "provenance": [],
      "collapsed_sections": []
    },
    "kernelspec": {
      "name": "python3",
      "display_name": "Python 3"
    }
  },
  "cells": [
    {
      "cell_type": "code",
      "metadata": {
        "id": "8vM89u9B8uD7",
        "colab_type": "code",
        "colab": {}
      },
      "source": [
        "import pickle, gzip\n",
        "import numpy as np"
      ],
      "execution_count": 0,
      "outputs": []
    },
    {
      "cell_type": "markdown",
      "metadata": {
        "id": "CJWwN8uJxxvE",
        "colab_type": "text"
      },
      "source": [
        "# Loading the data"
      ]
    },
    {
      "cell_type": "code",
      "metadata": {
        "id": "Jm7p-Q-583hE",
        "colab_type": "code",
        "colab": {
          "base_uri": "https://localhost:8080/",
          "height": 68
        },
        "outputId": "5886d5cf-41f0-4ee8-fa85-1564eaf8013f"
      },
      "source": [
        "## load data\n",
        " \n",
        "f = gzip.open('/mnist_10000.pkl.gz', 'rb')\n",
        "trainData, trainLabels, valData, valLabels, testData, testLabels = pickle.load(\n",
        "    f, encoding='latin1')\n",
        "f.close()\n",
        " \n",
        "print(\"training data points: {}\".format(len(trainLabels)))\n",
        "print(\"validation data points: {}\".format(len(valLabels)))\n",
        "print(\"testing data points: {}\".format(len(testLabels)))"
      ],
      "execution_count": 3,
      "outputs": [
        {
          "output_type": "stream",
          "text": [
            "training data points: 10000\n",
            "validation data points: 2000\n",
            "testing data points: 2000\n"
          ],
          "name": "stdout"
        }
      ]
    },
    {
      "cell_type": "markdown",
      "metadata": {
        "id": "WSpB9VpZx3PM",
        "colab_type": "text"
      },
      "source": [
        "# Task 1\n",
        "\n",
        "Try the following values of K, and note the classification accuracy on the validation data for each. K = 1, 3, 5, 9, 15, 25"
      ]
    },
    {
      "cell_type": "code",
      "metadata": {
        "id": "oMz1VoLq9DBO",
        "colab_type": "code",
        "colab": {}
      },
      "source": [
        "from sklearn.neighbors import KNeighborsClassifier"
      ],
      "execution_count": 0,
      "outputs": []
    },
    {
      "cell_type": "code",
      "metadata": {
        "id": "Mq8AUd4W9HE1",
        "colab_type": "code",
        "colab": {
          "base_uri": "https://localhost:8080/",
          "height": 119
        },
        "outputId": "99fbfa6c-696d-4ca9-f80e-730edc12d2a7"
      },
      "source": [
        "## train model\n",
        " \n",
        "for k in [1, 3, 5, 9, 15, 25, ]:\n",
        "    model = KNeighborsClassifier(n_neighbors=k)\n",
        "    model.fit(trainData, trainLabels)\n",
        "    # KNeighborsClassifier(algorithm='auto', leaf_size=30, metric='minkowski',\n",
        "    #            metric_params=None, n_jobs=1, n_neighbors=5, p=2,\n",
        "    #            weights='uniform')\n",
        " \n",
        "    score = model.score(valData, valLabels)\n",
        "    print(k, score) "
      ],
      "execution_count": 5,
      "outputs": [
        {
          "output_type": "stream",
          "text": [
            "1 0.947\n",
            "3 0.953\n",
            "5 0.948\n",
            "9 0.9405\n",
            "15 0.9335\n",
            "25 0.9235\n"
          ],
          "name": "stdout"
        }
      ]
    },
    {
      "cell_type": "markdown",
      "metadata": {
        "id": "Gs5u3ZEKyCLL",
        "colab_type": "text"
      },
      "source": [
        "#Task 2\n",
        "\n",
        "For the best performing value of K, calculate and note the classification accuracy on the test data. "
      ]
    },
    {
      "cell_type": "code",
      "metadata": {
        "id": "pUfWJP719KQE",
        "colab_type": "code",
        "colab": {
          "base_uri": "https://localhost:8080/",
          "height": 34
        },
        "outputId": "d9ebbad9-20b5-49a9-cf7a-9282b42acc64"
      },
      "source": [
        "# re-train our classifier using the best k value and predict the labels of the\n",
        "# test data\n",
        "\n",
        "best_k = 25\n",
        "model = KNeighborsClassifier(n_neighbors=best_k)\n",
        "model.fit(trainData, trainLabels)\n",
        "accuracy = model.score(testData, testLabels)\n",
        "print(\"Achieved accuracy of %.2f%% on test data\" % (accuracy*100))"
      ],
      "execution_count": 6,
      "outputs": [
        {
          "output_type": "stream",
          "text": [
            "Achieved accuracy of 89.80% on test data\n"
          ],
          "name": "stdout"
        }
      ]
    },
    {
      "cell_type": "markdown",
      "metadata": {
        "id": "sD7y27OIyOqp",
        "colab_type": "text"
      },
      "source": [
        "#Task 3\n",
        "Inspect the performance per class, i.e. precision, recall and f-score for each digit. "
      ]
    },
    {
      "cell_type": "code",
      "metadata": {
        "id": "cUT2rBwY9MRh",
        "colab_type": "code",
        "colab": {
          "base_uri": "https://localhost:8080/",
          "height": 323
        },
        "outputId": "2a1dfd79-d67c-4842-e4b3-8f2bc31577d1"
      },
      "source": [
        "from sklearn.metrics import classification_report\n",
        "\n",
        "# show a final classification report demonstrating the accuracy of the classifier\n",
        "# for each of the digits\n",
        "predictions = model.predict(testData)\n",
        "print(\"Classification Report\")\n",
        "print(classification_report(testLabels, predictions))"
      ],
      "execution_count": 7,
      "outputs": [
        {
          "output_type": "stream",
          "text": [
            "Classification Report\n",
            "              precision    recall  f1-score   support\n",
            "\n",
            "           0       0.92      0.99      0.95       175\n",
            "           1       0.79      1.00      0.88       234\n",
            "           2       0.99      0.77      0.87       219\n",
            "           3       0.91      0.91      0.91       207\n",
            "           4       0.94      0.88      0.91       217\n",
            "           5       0.96      0.88      0.92       179\n",
            "           6       0.91      0.96      0.94       178\n",
            "           7       0.87      0.88      0.87       205\n",
            "           8       0.97      0.78      0.86       192\n",
            "           9       0.83      0.94      0.88       194\n",
            "\n",
            "    accuracy                           0.90      2000\n",
            "   macro avg       0.91      0.90      0.90      2000\n",
            "weighted avg       0.91      0.90      0.90      2000\n",
            "\n"
          ],
          "name": "stdout"
        }
      ]
    },
    {
      "cell_type": "markdown",
      "metadata": {
        "id": "TEgu_90ayVHc",
        "colab_type": "text"
      },
      "source": [
        "#Task 4\n",
        "Inspect the confusion matrix, i.e. when the correct label was digit I, how times did the model predict J."
      ]
    },
    {
      "cell_type": "code",
      "metadata": {
        "id": "Ug62-h8d9OK3",
        "colab_type": "code",
        "colab": {
          "base_uri": "https://localhost:8080/",
          "height": 204
        },
        "outputId": "f50800cf-22ca-454d-b55c-41d592b2bde9"
      },
      "source": [
        "from sklearn.metrics import confusion_matrix\n",
        "print(\"Confusion Matrix\")\n",
        "print(confusion_matrix(testLabels, predictions))"
      ],
      "execution_count": 8,
      "outputs": [
        {
          "output_type": "stream",
          "text": [
            "Confusion Matrix\n",
            "[[174   0   0   0   0   0   1   0   0   0]\n",
            " [  0 234   0   0   0   0   0   0   0   0]\n",
            " [  6  24 169   0   1   0   4  11   4   0]\n",
            " [  0   4   0 189   0   1   2   7   1   3]\n",
            " [  0   5   0   0 191   0   4   2   0  15]\n",
            " [  2   3   0   6   1 157   3   2   0   5]\n",
            " [  3   1   0   0   2   1 171   0   0   0]\n",
            " [  0  19   0   0   1   0   0 180   0   5]\n",
            " [  3   6   2   9   5   4   2   3 149   9]\n",
            " [  2   2   0   3   2   0   0   3   0 182]]\n"
          ],
          "name": "stdout"
        }
      ]
    },
    {
      "cell_type": "code",
      "metadata": {
        "id": "PKlSBCLXALHu",
        "colab_type": "code",
        "colab": {}
      },
      "source": [
        ""
      ],
      "execution_count": 0,
      "outputs": []
    }
  ]
}