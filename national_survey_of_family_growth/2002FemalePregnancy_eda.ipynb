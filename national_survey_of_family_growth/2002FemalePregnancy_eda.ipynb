{
 "cells": [
  {
   "cell_type": "markdown",
   "metadata": {},
   "source": [
    "# Chapter 1"
   ]
  },
  {
   "cell_type": "code",
   "execution_count": 70,
   "metadata": {},
   "outputs": [],
   "source": [
    "import pandas as pd\n",
    "import numpy as np\n",
    "import matplotlib.pyplot as plt\n",
    "import seaborn as sns\n",
    "pd.set_option(\"display.max_rows\",500)"
   ]
  },
  {
   "cell_type": "code",
   "execution_count": 71,
   "metadata": {},
   "outputs": [
    {
     "data": {
      "text/plain": [
       "(13593, 243)"
      ]
     },
     "execution_count": 71,
     "metadata": {},
     "output_type": "execute_result"
    }
   ],
   "source": [
    "df = pd.read_csv(\"/home/rohit/Desktop/study/ai-projects/national_survey_of_family_growth/dataset/2002FemalePregnancy.csv\")\n",
    "df.shape"
   ]
  },
  {
   "cell_type": "markdown",
   "metadata": {},
   "source": [
    "There are 244 variables in total but only the following variables are used: \n",
    "\n",
    "- **caseid** is the integer ID of the respondent\n",
    "- **prglngth** is the integer duration of the pregnancy in weeks.\n",
    "- **outcome** is an integer code for the outcome of the pregnancy. The code 1 indicates a live birth.\n",
    "- **pregordr** is a pregnancy serial number; for example, the code for a respondent’s first pregnancy is 1, for the second pregnancy is 2, and so on.\n",
    "- **birthord** is a serial number for live births; the code for a respondent’s first child is 1, and so on. For outcomes other than live birth, this field is blank.\n",
    "- **birthwgt_lb** and **birthwgt_oz** contain the pounds and ounces parts of the birth weight of the baby.\n",
    "- **agepreg** is the mother’s age at the end of the pregnancy.\n",
    "- **finalwgt** is the statistical weight associated with the respondent. It is a floating-point value that indicates the number of people in the U.S. population this respondent represents.\n",
    "\n",
    "In addition it uses several special codes:\n",
    "- 97 NOT ASCERTAINED\n",
    "- 98 REFUSED\n",
    "- 99 DON'T KNOW"
   ]
  },
  {
   "cell_type": "code",
   "execution_count": 72,
   "metadata": {},
   "outputs": [
    {
     "name": "stdout",
     "output_type": "stream",
     "text": [
      "(13593, 244)\n"
     ]
    }
   ],
   "source": [
    "# Data Cleaning\n",
    "\n",
    "# mother's age is encoded in centiyears; convert to years\n",
    "df.agepreg /= 100.0\n",
    "\n",
    "# birthwgt_lb contains at least one bogus value (51 lbs)\n",
    "# replace with NaN\n",
    "df.loc[df.birthwgt_lb > 20, 'birthwgt_lb'] = np.nan\n",
    "\n",
    "# replace 'not ascertained', 'refused', 'don't know' with NaN\n",
    "na_vals = [97, 98, 99]\n",
    "df.birthwgt_lb.replace(na_vals, np.nan, inplace=True)\n",
    "df.birthwgt_oz.replace(na_vals, np.nan, inplace=True)\n",
    "df.hpagelb.replace(na_vals, np.nan, inplace=True)\n",
    "\n",
    "df.babysex.replace([7, 9], np.nan, inplace=True)\n",
    "df.nbrnaliv.replace([9], np.nan, inplace=True)\n",
    "\n",
    "# birthweight is stored in two columns, lbs and oz.\n",
    "# convert to a single column in lb\n",
    "df['totalwgt_lb'] = df.birthwgt_lb + df.birthwgt_oz / 16.0    \n",
    "\n",
    "# due to a bug in ReadStataDct, the last variable gets clipped;\n",
    "# so for now set it to NaN\n",
    "df.cmintvw = np.nan\n",
    "\n",
    "print(df.shape)"
   ]
  },
  {
   "cell_type": "code",
   "execution_count": 77,
   "metadata": {},
   "outputs": [],
   "source": [
    "df.to_csv('./dataset/2002FemalePregnancy_clean.csv', index=False)"
   ]
  },
  {
   "cell_type": "code",
   "execution_count": 74,
   "metadata": {},
   "outputs": [
    {
     "data": {
      "text/plain": [
       "1    9148\n",
       "2    1862\n",
       "3     120\n",
       "4    1921\n",
       "5     190\n",
       "6     352\n",
       "Name: outcome, dtype: int64"
      ]
     },
     "execution_count": 74,
     "metadata": {},
     "output_type": "execute_result"
    }
   ],
   "source": [
    "'''\n",
    "value label Total\n",
    "1 LIVE BIRTH 9148\n",
    "2 INDUCED ABORTION 1862\n",
    "3 STILLBIRTH 120\n",
    "4 MISCARRIAGE 1921\n",
    "5 ECTOPIC PREGNANCY 190\n",
    "6 CURRENT PREGNANCY 352\n",
    "'''\n",
    "# Validate the cleaning is done accurately\n",
    "df.outcome.value_counts().sort_index()"
   ]
  },
  {
   "cell_type": "code",
   "execution_count": 75,
   "metadata": {},
   "outputs": [
    {
     "data": {
      "text/plain": [
       "(0.0, 5.0]     1117\n",
       "(5.0, 6.0]     2223\n",
       "(6.0, 7.0]     3049\n",
       "(7.0, 8.0]     1889\n",
       "(8.0, 9.0]      623\n",
       "(9.0, 99.0]     175\n",
       "NaN            4517\n",
       "Name: birthwgt_lb, dtype: int64"
      ]
     },
     "execution_count": 75,
     "metadata": {},
     "output_type": "execute_result"
    }
   ],
   "source": [
    "'''\n",
    "value label Total\n",
    ". INAPPLICABLE 4449\n",
    "0-5 UNDER 6 POUNDS 1125\n",
    "6 6 POUNDS 2223\n",
    "7 7 POUNDS 3049\n",
    "8 8 POUNDS 1889\n",
    "9-95 9 POUNDS OR MORE 799\n",
    "'''\n",
    "bins = [0,5,6,7,8,9,99]\n",
    "pd.cut(df.birthwgt_lb,bins).value_counts(dropna=False).sort_index()\n"
   ]
  },
  {
   "cell_type": "code",
   "execution_count": 81,
   "metadata": {},
   "outputs": [],
   "source": [
    "from collections import defaultdict\n",
    "def MakePregMap(df):\n",
    "    d = defaultdict(list)\n",
    "    for index, caseid in df.caseid.iteritems():\n",
    "        d[caseid].append(index)\n",
    "    return d"
   ]
  },
  {
   "cell_type": "code",
   "execution_count": 82,
   "metadata": {},
   "outputs": [
    {
     "data": {
      "text/plain": [
       "array([4, 4, 4, 4, 4, 4, 1])"
      ]
     },
     "execution_count": 82,
     "metadata": {},
     "output_type": "execute_result"
    }
   ],
   "source": [
    "caseid = 10229\n",
    "preg_map = MakePregMap(df)\n",
    "indices = preg_map[caseid]\n",
    "df.outcome[indices].values"
   ]
  },
  {
   "cell_type": "markdown",
   "metadata": {},
   "source": [
    "# Chapter 2"
   ]
  },
  {
   "cell_type": "code",
   "execution_count": null,
   "metadata": {},
   "outputs": [],
   "source": []
  }
 ],
 "metadata": {
  "kernelspec": {
   "display_name": "Python 3",
   "language": "python",
   "name": "python3"
  },
  "language_info": {
   "codemirror_mode": {
    "name": "ipython",
    "version": 3
   },
   "file_extension": ".py",
   "mimetype": "text/x-python",
   "name": "python",
   "nbconvert_exporter": "python",
   "pygments_lexer": "ipython3",
   "version": "3.7.4"
  }
 },
 "nbformat": 4,
 "nbformat_minor": 2
}
